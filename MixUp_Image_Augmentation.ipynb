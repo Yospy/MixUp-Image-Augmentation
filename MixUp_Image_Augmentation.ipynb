{
  "nbformat": 4,
  "nbformat_minor": 0,
  "metadata": {
    "colab": {
      "name": "MixUp Image Augmentation.ipynb",
      "provenance": [],
      "collapsed_sections": [],
      "authorship_tag": "ABX9TyMKJh3sKHkCipPK8zjl/H8s",
      "include_colab_link": true
    },
    "kernelspec": {
      "name": "python3",
      "display_name": "Python 3"
    },
    "language_info": {
      "name": "python"
    }
  },
  "cells": [
    {
      "cell_type": "markdown",
      "metadata": {
        "id": "view-in-github",
        "colab_type": "text"
      },
      "source": [
        "<a href=\"https://colab.research.google.com/github/Yospy/MixUp-Image-Augmentation/blob/main/MixUp_Image_Augmentation.ipynb\" target=\"_parent\"><img src=\"https://colab.research.google.com/assets/colab-badge.svg\" alt=\"Open In Colab\"/></a>"
      ]
    },
    {
      "cell_type": "code",
      "execution_count": 1,
      "metadata": {
        "id": "invQ29LvKY8e"
      },
      "outputs": [],
      "source": [
        "import tensorflow as tf\n",
        "from numpy import *\n",
        "import matplotlib.pyplot as plt"
      ]
    },
    {
      "cell_type": "code",
      "source": [
        "(X_train,y_train),(X_test,y_test) = tf.keras.datasets.fashion_mnist.load_data()\n",
        "\n",
        "X_train = X_train.astype(\"float32\")/255.0\n",
        "X_train = reshape(X_train, (-1,28,28,1))\n",
        "y_train = tf.one_hot(y_train,10)\n",
        "\n",
        "X_test = X_test.astype(\"float32\") / 255.0\n",
        "X_test = reshape(X_test, (-1,28,28,1))\n",
        "y_test = tf.one_hot(y_test,10)"
      ],
      "metadata": {
        "colab": {
          "base_uri": "https://localhost:8080/"
        },
        "id": "KPxwwqJAKlSG",
        "outputId": "9d78ed2b-7dda-4454-b6d8-46277a1f6020"
      },
      "execution_count": 2,
      "outputs": [
        {
          "output_type": "stream",
          "name": "stdout",
          "text": [
            "Downloading data from https://storage.googleapis.com/tensorflow/tf-keras-datasets/train-labels-idx1-ubyte.gz\n",
            "32768/29515 [=================================] - 0s 0us/step\n",
            "40960/29515 [=========================================] - 0s 0us/step\n",
            "Downloading data from https://storage.googleapis.com/tensorflow/tf-keras-datasets/train-images-idx3-ubyte.gz\n",
            "26427392/26421880 [==============================] - 0s 0us/step\n",
            "26435584/26421880 [==============================] - 0s 0us/step\n",
            "Downloading data from https://storage.googleapis.com/tensorflow/tf-keras-datasets/t10k-labels-idx1-ubyte.gz\n",
            "16384/5148 [===============================================================================================] - 0s 0us/step\n",
            "Downloading data from https://storage.googleapis.com/tensorflow/tf-keras-datasets/t10k-images-idx3-ubyte.gz\n",
            "4423680/4422102 [==============================] - 0s 0us/step\n",
            "4431872/4422102 [==============================] - 0s 0us/step\n"
          ]
        }
      ]
    },
    {
      "cell_type": "code",
      "source": [
        "Auto = tf.data.AUTOTUNE\n",
        "batch = 64\n",
        "epochs = 10"
      ],
      "metadata": {
        "id": "GZPD8LoEn9Gy"
      },
      "execution_count": 3,
      "outputs": []
    },
    {
      "cell_type": "code",
      "source": [
        "val = 2000\n",
        "X_val,y_val = X_train[:val],y_train[:val]\n",
        "nx_train,ny_train = X_train[val:],y_train[val:]\n",
        "\n",
        "train_done = (\n",
        "    tf.data.Dataset.from_tensor_slices((nx_train,ny_train))\n",
        "    .shuffle(batch*100)\n",
        "    .batch(batch)\n",
        "\n",
        ")\n",
        "\n",
        "train_dtwo = (\n",
        "    tf.data.Dataset.from_tensor_slices((nx_train,ny_train))\n",
        "    .shuffle(batch*100)\n",
        "    .batch(batch)\n",
        ")\n",
        "\n",
        "train_ds = tf.data.Dataset.zip((train_done,train_dtwo))\n",
        "\n",
        "val_ds = tf.data.Dataset.from_tensor_slices((X_val,y_val)).batch(batch)\n",
        "\n",
        "test_ds = tf.data.Dataset.from_tensor_slices((X_test,y_test)).batch(batch)"
      ],
      "metadata": {
        "id": "OvAv_89BqhGp"
      },
      "execution_count": 4,
      "outputs": []
    },
    {
      "cell_type": "code",
      "source": [
        "def samplebeta(size,conc_0=0.2,conc_1=0.2):\n",
        "  gamma_1s = tf.random.gamma(shape=[size],alpha=conc_1)\n",
        "  gamma_2s = tf.random.gamma(shape=[size],alpha=conc_0)\n",
        "  return gamma_1s / (gamma_1s+gamma_2s)\n",
        "\n",
        "\n",
        "def mix_up(ds_one,ds_two, alpha=0.2):\n",
        "  images_one, label_one = ds_one\n",
        "  images_two, label_two = ds_two\n",
        "  batch_size = tf.shape(images_one)[0]\n",
        "\n",
        "  l = samplebeta(batch_size,alpha,alpha)\n",
        "  x_l = tf.reshape(l, (batch_size,1,1,1))\n",
        "  y_l = tf.reshape(l, (batch_size,1))\n",
        "\n",
        "  images = images_one * x_l + images_two * (1 - x_l)\n",
        "  labels = label_one * y_l + label_two * (1 - y_l)\n",
        "  return images, labels\n",
        "\n",
        "\n"
      ],
      "metadata": {
        "id": "PTf0i6AZrnSp"
      },
      "execution_count": 5,
      "outputs": []
    },
    {
      "cell_type": "code",
      "source": [
        "\n",
        "train_ds_mu = train_ds.map(lambda ds_one, ds_two: mix_up(ds_one, ds_two, alpha=0.2), num_parallel_calls=Auto)\n",
        "\n",
        "\n",
        "sample_images, sample_labels = next(iter(train_ds_mu))\n",
        "plt.figure(figsize=(10,10))\n",
        "for i, (image,label) in enumerate(zip(sample_images[:9],sample_labels[:9])):\n",
        "  ax = plt.subplot(3,3,i+1)\n",
        "  plt.imshow(image.numpy().squeeze())\n",
        "  print(label.numpy().tolist())\n",
        "  plt.axis(\"off\")"
      ],
      "metadata": {
        "colab": {
          "base_uri": "https://localhost:8080/",
          "height": 728
        },
        "id": "WAEUIv72Gfz1",
        "outputId": "4d341b4c-c082-4e8a-beec-e6b9973744c9"
      },
      "execution_count": 6,
      "outputs": [
        {
          "output_type": "stream",
          "name": "stdout",
          "text": [
            "[0.0, 0.0016602873802185059, 0.0, 0.0, 0.9983397126197815, 0.0, 0.0, 0.0, 0.0, 0.0]\n",
            "[0.0, 0.0, 0.0, 0.9353302717208862, 0.0, 0.0, 0.0, 0.0, 0.06466972827911377, 0.0]\n",
            "[0.0, 0.0, 1.0, 0.0, 0.0, 0.0, 0.0, 0.0, 0.0, 0.0]\n",
            "[0.0, 0.0, 0.0, 0.0003642579249572009, 0.0, 0.0, 0.9996357560157776, 0.0, 0.0, 0.0]\n",
            "[0.0, 0.0, 0.0, 1.7285346984863281e-06, 0.0, 0.0, 0.9999982714653015, 0.0, 0.0, 0.0]\n",
            "[0.06541614979505539, 0.934583842754364, 0.0, 0.0, 0.0, 0.0, 0.0, 0.0, 0.0, 0.0]\n",
            "[0.0, 0.0, 0.0, 0.7308171987533569, 0.0, 0.0, 0.0, 0.0, 0.0, 0.2691827714443207]\n",
            "[0.0, 0.04898696392774582, 0.0, 0.0, 0.0, 0.0, 0.9510130286216736, 0.0, 0.0, 0.0]\n",
            "[0.0, 0.9091072678565979, 0.0, 0.0, 0.0, 0.0, 0.0, 0.0, 0.0, 0.0908927321434021]\n"
          ]
        },
        {
          "output_type": "display_data",
          "data": {
            "image/png": "[encoded data removed]",
            "text/plain": [
              "<Figure size 720x720 with 9 Axes>"
            ]
          },
          "metadata": {
            "needs_background": "light"
          }
        }
      ]
    },
    {
      "cell_type": "code",
      "source": [
        "model = tf.keras.Sequential([\n",
        "                             tf.keras.layers.Conv2D(64,(5,5),activation='relu',input_shape=(28,28,1)),\n",
        "                             tf.keras.layers.MaxPooling2D(2,2),\n",
        "                             tf.keras.layers.Conv2D(128,(5,5),activation='relu'),\n",
        "                             tf.keras.layers.MaxPooling2D(2,2),\n",
        "                             tf.keras.layers.Dropout(0.2),\n",
        "                             tf.keras.layers.GlobalAvgPool2D(),\n",
        "                             tf.keras.layers.Dense(128,activation='sigmoid'),\n",
        "                             tf.keras.layers.Dense(10,activation='sigmoid')                          \n",
        "])"
      ],
      "metadata": {
        "id": "W4VCnNhmIC11"
      },
      "execution_count": 7,
      "outputs": []
    },
    {
      "cell_type": "code",
      "source": [
        "model.compile(loss='categorical_crossentropy',metrics=['acc'],optimizer='adam')\n",
        "model.fit(train_ds_mu,validation_data=val_ds,epochs=epochs)"
      ],
      "metadata": {
        "colab": {
          "base_uri": "https://localhost:8080/"
        },
        "id": "oxLbFGxgUWL6",
        "outputId": "90db2537-e62d-4343-a5c0-99bfcf96949b"
      },
      "execution_count": 8,
      "outputs": [
        {
          "output_type": "stream",
          "name": "stdout",
          "text": [
            "Epoch 1/10\n",
            "907/907 [==============================] - 175s 191ms/step - loss: 1.1425 - acc: 0.6465 - val_loss: 0.6628 - val_acc: 0.7570\n",
            "Epoch 2/10\n",
            "907/907 [==============================] - 157s 173ms/step - loss: 0.8868 - acc: 0.7473 - val_loss: 0.5199 - val_acc: 0.8255\n",
            "Epoch 3/10\n",
            "907/907 [==============================] - 157s 173ms/step - loss: 0.7949 - acc: 0.7906 - val_loss: 0.4444 - val_acc: 0.8510\n",
            "Epoch 4/10\n",
            "907/907 [==============================] - 156s 172ms/step - loss: 0.7478 - acc: 0.8104 - val_loss: 0.4132 - val_acc: 0.8620\n",
            "Epoch 5/10\n",
            "907/907 [==============================] - 160s 176ms/step - loss: 0.7097 - acc: 0.8225 - val_loss: 0.3736 - val_acc: 0.8725\n",
            "Epoch 6/10\n",
            "907/907 [==============================] - 161s 177ms/step - loss: 0.6832 - acc: 0.8358 - val_loss: 0.3712 - val_acc: 0.8680\n",
            "Epoch 7/10\n",
            "907/907 [==============================] - 161s 178ms/step - loss: 0.6637 - acc: 0.8387 - val_loss: 0.3559 - val_acc: 0.8780\n",
            "Epoch 8/10\n",
            "907/907 [==============================] - 162s 178ms/step - loss: 0.6493 - acc: 0.8434 - val_loss: 0.3293 - val_acc: 0.8865\n",
            "Epoch 9/10\n",
            "907/907 [==============================] - 167s 184ms/step - loss: 0.6392 - acc: 0.8468 - val_loss: 0.3278 - val_acc: 0.8785\n",
            "Epoch 10/10\n",
            "907/907 [==============================] - 160s 176ms/step - loss: 0.6299 - acc: 0.8480 - val_loss: 0.3276 - val_acc: 0.8850\n"
          ]
        },
        {
          "output_type": "execute_result",
          "data": {
            "text/plain": [
              "<keras.callbacks.History at 0x7f8cddbc67d0>"
            ]
          },
          "metadata": {},
          "execution_count": 8
        }
      ]
    },
    {
      "cell_type": "code",
      "source": [
        "import pandas as pd\n",
        "df = pd.DataFrame(model.history.history)\n",
        "df"
      ],
      "metadata": {
        "colab": {
          "base_uri": "https://localhost:8080/",
          "height": 359
        },
        "id": "_6yaPdf1Vffu",
        "outputId": "5064f2b8-f96b-40d7-8f9e-ae6c2a7e172b"
      },
      "execution_count": 9,
      "outputs": [
        {
          "output_type": "execute_result",
          "data": {
            "text/html": [
              "\n",
              "  <div id=\"df-5d7c53e2-8fc8-47e4-be53-a4a81ffda85b\">\n",
              "    <div class=\"colab-df-container\">\n",
              "      <div>\n",
              "<style scoped>\n",
              "    .dataframe tbody tr th:only-of-type {\n",
              "        vertical-align: middle;\n",
              "    }\n",
              "\n",
              "    .dataframe tbody tr th {\n",
              "        vertical-align: top;\n",
              "    }\n",
              "\n",
              "    .dataframe thead th {\n",
              "        text-align: right;\n",
              "    }\n",
              "</style>\n",
              "<table border=\"1\" class=\"dataframe\">\n",
              "  <thead>\n",
              "    <tr style=\"text-align: right;\">\n",
              "      <th></th>\n",
              "      <th>loss</th>\n",
              "      <th>acc</th>\n",
              "      <th>val_loss</th>\n",
              "      <th>val_acc</th>\n",
              "    </tr>\n",
              "  </thead>\n",
              "  <tbody>\n",
              "    <tr>\n",
              "      <th>0</th>\n",
              "      <td>1.142487</td>\n",
              "      <td>0.646500</td>\n",
              "      <td>0.662821</td>\n",
              "      <td>0.7570</td>\n",
              "    </tr>\n",
              "    <tr>\n",
              "      <th>1</th>\n",
              "      <td>0.886796</td>\n",
              "      <td>0.747293</td>\n",
              "      <td>0.519882</td>\n",
              "      <td>0.8255</td>\n",
              "    </tr>\n",
              "    <tr>\n",
              "      <th>2</th>\n",
              "      <td>0.794875</td>\n",
              "      <td>0.790621</td>\n",
              "      <td>0.444436</td>\n",
              "      <td>0.8510</td>\n",
              "    </tr>\n",
              "    <tr>\n",
              "      <th>3</th>\n",
              "      <td>0.747823</td>\n",
              "      <td>0.810397</td>\n",
              "      <td>0.413157</td>\n",
              "      <td>0.8620</td>\n",
              "    </tr>\n",
              "    <tr>\n",
              "      <th>4</th>\n",
              "      <td>0.709693</td>\n",
              "      <td>0.822466</td>\n",
              "      <td>0.373583</td>\n",
              "      <td>0.8725</td>\n",
              "    </tr>\n",
              "    <tr>\n",
              "      <th>5</th>\n",
              "      <td>0.683201</td>\n",
              "      <td>0.835776</td>\n",
              "      <td>0.371223</td>\n",
              "      <td>0.8680</td>\n",
              "    </tr>\n",
              "    <tr>\n",
              "      <th>6</th>\n",
              "      <td>0.663740</td>\n",
              "      <td>0.838690</td>\n",
              "      <td>0.355861</td>\n",
              "      <td>0.8780</td>\n",
              "    </tr>\n",
              "    <tr>\n",
              "      <th>7</th>\n",
              "      <td>0.649260</td>\n",
              "      <td>0.843379</td>\n",
              "      <td>0.329277</td>\n",
              "      <td>0.8865</td>\n",
              "    </tr>\n",
              "    <tr>\n",
              "      <th>8</th>\n",
              "      <td>0.639191</td>\n",
              "      <td>0.846776</td>\n",
              "      <td>0.327791</td>\n",
              "      <td>0.8785</td>\n",
              "    </tr>\n",
              "    <tr>\n",
              "      <th>9</th>\n",
              "      <td>0.629884</td>\n",
              "      <td>0.847983</td>\n",
              "      <td>0.327589</td>\n",
              "      <td>0.8850</td>\n",
              "    </tr>\n",
              "  </tbody>\n",
              "</table>\n",
              "</div>\n",
              "      <button class=\"colab-df-convert\" onclick=\"convertToInteractive('df-5d7c53e2-8fc8-47e4-be53-a4a81ffda85b')\"\n",
              "              title=\"Convert this dataframe to an interactive table.\"\n",
              "              style=\"display:none;\">\n",
              "        \n",
              "  <svg xmlns=\"http://www.w3.org/2000/svg\" height=\"24px\"viewBox=\"0 0 24 24\"\n",
              "       width=\"24px\">\n",
              "    <path d=\"M0 0h24v24H0V0z\" fill=\"none\"/>\n",
              "    <path d=\"M18.56 5.44l.94 2.06.94-2.06 2.06-.94-2.06-.94-.94-2.06-.94 2.06-2.06.94zm-11 1L8.5 8.5l.94-2.06 2.06-.94-2.06-.94L8.5 2.5l-.94 2.06-2.06.94zm10 10l.94 2.06.94-2.06 2.06-.94-2.06-.94-.94-2.06-.94 2.06-2.06.94z\"/><path d=\"M17.41 7.96l-1.37-1.37c-.4-.4-.92-.59-1.43-.59-.52 0-1.04.2-1.43.59L10.3 9.45l-7.72 7.72c-.78.78-.78 2.05 0 2.83L4 21.41c.39.39.9.59 1.41.59.51 0 1.02-.2 1.41-.59l7.78-7.78 2.81-2.81c.8-.78.8-2.07 0-2.86zM5.41 20L4 18.59l7.72-7.72 1.47 1.35L5.41 20z\"/>\n",
              "  </svg>\n",
              "      </button>\n",
              "      \n",
              "  <style>\n",
              "    .colab-df-container {\n",
              "      display:flex;\n",
              "      flex-wrap:wrap;\n",
              "      gap: 12px;\n",
              "    }\n",
              "\n",
              "    .colab-df-convert {\n",
              "      background-color: #E8F0FE;\n",
              "      border: none;\n",
              "      border-radius: 50%;\n",
              "      cursor: pointer;\n",
              "      display: none;\n",
              "      fill: #1967D2;\n",
              "      height: 32px;\n",
              "      padding: 0 0 0 0;\n",
              "      width: 32px;\n",
              "    }\n",
              "\n",
              "    .colab-df-convert:hover {\n",
              "      background-color: #E2EBFA;\n",
              "      box-shadow: 0px 1px 2px rgba(60, 64, 67, 0.3), 0px 1px 3px 1px rgba(60, 64, 67, 0.15);\n",
              "      fill: #174EA6;\n",
              "    }\n",
              "\n",
              "    [theme=dark] .colab-df-convert {\n",
              "      background-color: #3B4455;\n",
              "      fill: #D2E3FC;\n",
              "    }\n",
              "\n",
              "    [theme=dark] .colab-df-convert:hover {\n",
              "      background-color: #434B5C;\n",
              "      box-shadow: 0px 1px 3px 1px rgba(0, 0, 0, 0.15);\n",
              "      filter: drop-shadow(0px 1px 2px rgba(0, 0, 0, 0.3));\n",
              "      fill: #FFFFFF;\n",
              "    }\n",
              "  </style>\n",
              "\n",
              "      <script>\n",
              "        const buttonEl =\n",
              "          document.querySelector('#df-5d7c53e2-8fc8-47e4-be53-a4a81ffda85b button.colab-df-convert');\n",
              "        buttonEl.style.display =\n",
              "          google.colab.kernel.accessAllowed ? 'block' : 'none';\n",
              "\n",
              "        async function convertToInteractive(key) {\n",
              "          const element = document.querySelector('#df-5d7c53e2-8fc8-47e4-be53-a4a81ffda85b');\n",
              "          const dataTable =\n",
              "            await google.colab.kernel.invokeFunction('convertToInteractive',\n",
              "                                                     [key], {});\n",
              "          if (!dataTable) return;\n",
              "\n",
              "          const docLinkHtml = 'Like what you see? Visit the ' +\n",
              "            '<a target=\"_blank\" href=https://colab.research.google.com/notebooks/data_table.ipynb>data table notebook</a>'\n",
              "            + ' to learn more about interactive tables.';\n",
              "          element.innerHTML = '';\n",
              "          dataTable['output_type'] = 'display_data';\n",
              "          await google.colab.output.renderOutput(dataTable, element);\n",
              "          const docLink = document.createElement('div');\n",
              "          docLink.innerHTML = docLinkHtml;\n",
              "          element.appendChild(docLink);\n",
              "        }\n",
              "      </script>\n",
              "    </div>\n",
              "  </div>\n",
              "  "
            ],
            "text/plain": [
              "       loss       acc  val_loss  val_acc\n",
              "0  1.142487  0.646500  0.662821   0.7570\n",
              "1  0.886796  0.747293  0.519882   0.8255\n",
              "2  0.794875  0.790621  0.444436   0.8510\n",
              "3  0.747823  0.810397  0.413157   0.8620\n",
              "4  0.709693  0.822466  0.373583   0.8725\n",
              "5  0.683201  0.835776  0.371223   0.8680\n",
              "6  0.663740  0.838690  0.355861   0.8780\n",
              "7  0.649260  0.843379  0.329277   0.8865\n",
              "8  0.639191  0.846776  0.327791   0.8785\n",
              "9  0.629884  0.847983  0.327589   0.8850"
            ]
          },
          "metadata": {},
          "execution_count": 9
        }
      ]
    },
    {
      "cell_type": "code",
      "source": [
        "plt.figure(figsize=(6,6))\n",
        "loss = df.loss\n",
        "vloss = df['val_loss']\n",
        "plt.plot(loss,color='r')\n",
        "plt.plot(vloss,color='black')"
      ],
      "metadata": {
        "colab": {
          "base_uri": "https://localhost:8080/",
          "height": 391
        },
        "id": "TBrSBkpBv-si",
        "outputId": "c738b49f-b4ab-49af-fc28-dceed307a94b"
      },
      "execution_count": 10,
      "outputs": [
        {
          "output_type": "execute_result",
          "data": {
            "text/plain": [
              "[<matplotlib.lines.Line2D at 0x7f8cd8e74ed0>]"
            ]
          },
          "metadata": {},
          "execution_count": 10
        },
        {
          "output_type": "display_data",
          "data": {
            "image/png": "[encoded data removed]",
            "text/plain": [
              "<Figure size 432x432 with 1 Axes>"
            ]
          },
          "metadata": {
            "needs_background": "light"
          }
        }
      ]
    },
    {
      "cell_type": "code",
      "source": [
        "plt.figure(figsize=(6,6))\n",
        "acc = df.acc\n",
        "vacc = df['val_acc']\n",
        "plt.plot(acc,color='blue')\n",
        "plt.plot(vacc,color='g')"
      ],
      "metadata": {
        "colab": {
          "base_uri": "https://localhost:8080/",
          "height": 391
        },
        "id": "oj8Ub17HwUv4",
        "outputId": "f792e847-0f54-4bce-e1d3-06e0db07db66"
      },
      "execution_count": 11,
      "outputs": [
        {
          "output_type": "execute_result",
          "data": {
            "text/plain": [
              "[<matplotlib.lines.Line2D at 0x7f8cd8d9a090>]"
            ]
          },
          "metadata": {},
          "execution_count": 11
        },
        {
          "output_type": "display_data",
          "data": {
            "image/png": "[encoded data removed]",
            "text/plain": [
              "<Figure size 432x432 with 1 Axes>"
            ]
          },
          "metadata": {
            "needs_background": "light"
          }
        }
      ]
    },
    {
      "cell_type": "markdown",
      "source": [
        "Training without mixed up dataset"
      ],
      "metadata": {
        "id": "Zn2cIZFOxLrG"
      }
    },
    {
      "cell_type": "code",
      "source": [
        "model.compile(optimizer='adam',loss='categorical_crossentropy',metrics=['acc'])\n",
        "model.fit(train_done,validation_data=val_ds,epochs=epochs)"
      ],
      "metadata": {
        "colab": {
          "base_uri": "https://localhost:8080/"
        },
        "id": "BYIQLqQSwrkl",
        "outputId": "d7a9eb72-9a5f-4b9c-e7d1-a99622c27e73"
      },
      "execution_count": 12,
      "outputs": [
        {
          "output_type": "stream",
          "name": "stdout",
          "text": [
            "Epoch 1/10\n",
            "907/907 [==============================] - 172s 189ms/step - loss: 0.3037 - acc: 0.8893 - val_loss: 0.2944 - val_acc: 0.8875\n",
            "Epoch 2/10\n",
            "907/907 [==============================] - 195s 215ms/step - loss: 0.2878 - acc: 0.8952 - val_loss: 0.2835 - val_acc: 0.8975\n",
            "Epoch 3/10\n",
            "907/907 [==============================] - 182s 200ms/step - loss: 0.2723 - acc: 0.9003 - val_loss: 0.2614 - val_acc: 0.9015\n",
            "Epoch 4/10\n",
            "907/907 [==============================] - 166s 183ms/step - loss: 0.2624 - acc: 0.9040 - val_loss: 0.2608 - val_acc: 0.9015\n",
            "Epoch 5/10\n",
            "907/907 [==============================] - 167s 184ms/step - loss: 0.2565 - acc: 0.9061 - val_loss: 0.2579 - val_acc: 0.9010\n",
            "Epoch 6/10\n",
            "907/907 [==============================] - 218s 240ms/step - loss: 0.2461 - acc: 0.9091 - val_loss: 0.2506 - val_acc: 0.9025\n",
            "Epoch 7/10\n",
            "907/907 [==============================] - 179s 197ms/step - loss: 0.2395 - acc: 0.9131 - val_loss: 0.2823 - val_acc: 0.8955\n",
            "Epoch 8/10\n",
            "907/907 [==============================] - 163s 180ms/step - loss: 0.2357 - acc: 0.9129 - val_loss: 0.2400 - val_acc: 0.9115\n",
            "Epoch 9/10\n",
            "907/907 [==============================] - 195s 216ms/step - loss: 0.2286 - acc: 0.9156 - val_loss: 0.2395 - val_acc: 0.9070\n",
            "Epoch 10/10\n",
            "907/907 [==============================] - 197s 217ms/step - loss: 0.2200 - acc: 0.9185 - val_loss: 0.2533 - val_acc: 0.8975\n"
          ]
        },
        {
          "output_type": "execute_result",
          "data": {
            "text/plain": [
              "<keras.callbacks.History at 0x7f8cda02d610>"
            ]
          },
          "metadata": {},
          "execution_count": 12
        }
      ]
    },
    {
      "cell_type": "code",
      "source": [
        ""
      ],
      "metadata": {
        "id": "xJ8gJW0wx5v1"
      },
      "execution_count": null,
      "outputs": []
    }
  ]
}